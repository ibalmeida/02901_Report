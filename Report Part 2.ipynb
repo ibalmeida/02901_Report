{
 "cells": [
  {
   "cell_type": "code",
   "execution_count": 1,
   "metadata": {
    "collapsed": false
   },
   "outputs": [
    {
     "name": "stderr",
     "output_type": "stream",
     "text": [
      "/Users/inesalmeida/work/02901_DTU/venv/lib/python2.7/site-packages/matplotlib/font_manager.py:273: UserWarning: Matplotlib is building the font cache using fc-list. This may take a moment.\n",
      "  warnings.warn('Matplotlib is building the font cache using fc-list. This may take a moment.')\n"
     ]
    }
   ],
   "source": [
    "import numpy as np\n",
    "\n",
    "import load_mnist\n",
    "import plot_utils\n",
    "\n",
    "np.random.seed(1)"
   ]
  },
  {
   "cell_type": "markdown",
   "metadata": {},
   "source": [
    "## Load Data"
   ]
  },
  {
   "cell_type": "code",
   "execution_count": 2,
   "metadata": {
    "collapsed": false
   },
   "outputs": [
    {
     "name": "stdout",
     "output_type": "stream",
     "text": [
      "Loaded 60000 patterns with 784 features.\n",
      "Loaded 10000 patterns with 784 features.\n"
     ]
    }
   ],
   "source": [
    "X_train, y_train = load_mnist.load_train()\n",
    "X_val, y_val, X_test, y_test = load_mnist.split_val_test(load_mnist.load_test())"
   ]
  },
  {
   "cell_type": "markdown",
   "metadata": {},
   "source": [
    "### Visualize some examples"
   ]
  },
  {
   "cell_type": "code",
   "execution_count": 3,
   "metadata": {
    "collapsed": true
   },
   "outputs": [],
   "source": [
    "%matplotlib inline"
   ]
  },
  {
   "cell_type": "code",
   "execution_count": 4,
   "metadata": {
    "collapsed": false
   },
   "outputs": [
    {
     "data": {
      "image/png": "[encoded data removed]",
      "text/plain": [
       "<matplotlib.figure.Figure at 0x1147dbc10>"
      ]
     },
     "metadata": {},
     "output_type": "display_data"
    }
   ],
   "source": [
    "plot_utils.plot_a_few(X_train, y_train)"
   ]
  },
  {
   "cell_type": "markdown",
   "metadata": {},
   "source": [
    "### Transform Output"
   ]
  },
  {
   "cell_type": "code",
   "execution_count": 5,
   "metadata": {
    "collapsed": false
   },
   "outputs": [
    {
     "name": "stderr",
     "output_type": "stream",
     "text": [
      "Using Theano backend.\n"
     ]
    }
   ],
   "source": [
    "from keras.utils import np_utils"
   ]
  },
  {
   "cell_type": "code",
   "execution_count": 6,
   "metadata": {
    "collapsed": false
   },
   "outputs": [
    {
     "name": "stdout",
     "output_type": "stream",
     "text": [
      "(60000, 784) (60000, 10)\n"
     ]
    }
   ],
   "source": [
    "NUM_CLASSES = 10\n",
    "\n",
    "y_train = np_utils.to_categorical(y_train, NUM_CLASSES)\n",
    "print X_train.shape, y_train.shape\n",
    "y_val = np_utils.to_categorical(y_val, NUM_CLASSES)\n",
    "y_test = np_utils.to_categorical(y_test, NUM_CLASSES)"
   ]
  },
  {
   "cell_type": "markdown",
   "metadata": {},
   "source": [
    "## Part 2: Time Sensitive Optimization\n",
    "We use a Multilayer Perceptron. We want to estimate the most adequate training hyperparameters in the shortest amount of time."
   ]
  },
  {
   "cell_type": "markdown",
   "metadata": {},
   "source": [
    "### Train a Basic Multilayer Perceptron for Illustration"
   ]
  },
  {
   "cell_type": "code",
   "execution_count": 7,
   "metadata": {
    "collapsed": false
   },
   "outputs": [],
   "source": [
    "from multilayer_perceptron import build_model"
   ]
  },
  {
   "cell_type": "code",
   "execution_count": 8,
   "metadata": {
    "collapsed": false
   },
   "outputs": [
    {
     "name": "stdout",
     "output_type": "stream",
     "text": [
      "Train on 60000 samples, validate on 2000 samples\n",
      "Epoch 1/12\n",
      "60000/60000 [==============================] - 16s - loss: 1.4663 - acc: 0.7250 - val_loss: 0.6553 - val_acc: 0.8460\n",
      "Epoch 2/12\n",
      "60000/60000 [==============================] - 17s - loss: 0.9720 - acc: 0.8611 - val_loss: 0.5329 - val_acc: 0.8830\n",
      "Epoch 3/12\n",
      "60000/60000 [==============================] - 17s - loss: 0.8724 - acc: 0.8772 - val_loss: 0.4891 - val_acc: 0.8945\n",
      "Epoch 4/12\n",
      "60000/60000 [==============================] - 17s - loss: 0.8192 - acc: 0.8868 - val_loss: 0.4759 - val_acc: 0.8960\n",
      "Epoch 5/12\n",
      "60000/60000 [==============================] - 17s - loss: 0.7896 - acc: 0.8919 - val_loss: 0.4613 - val_acc: 0.8990\n",
      "Epoch 6/12\n",
      "60000/60000 [==============================] - 17s - loss: 0.7672 - acc: 0.8953 - val_loss: 0.4513 - val_acc: 0.9055\n",
      "Epoch 7/12\n",
      "60000/60000 [==============================] - 17s - loss: 0.7514 - acc: 0.8995 - val_loss: 0.4455 - val_acc: 0.9065\n",
      "Epoch 8/12\n",
      "60000/60000 [==============================] - 17s - loss: 0.7421 - acc: 0.9015 - val_loss: 0.4473 - val_acc: 0.9080\n",
      "Epoch 9/12\n",
      "60000/60000 [==============================] - 17s - loss: 0.7339 - acc: 0.9026 - val_loss: 0.4391 - val_acc: 0.9075\n",
      "Epoch 10/12\n",
      "60000/60000 [==============================] - 17s - loss: 0.7297 - acc: 0.9038 - val_loss: 0.4351 - val_acc: 0.9075\n",
      "Epoch 11/12\n",
      "60000/60000 [==============================] - 16s - loss: 0.7247 - acc: 0.9056 - val_loss: 0.4326 - val_acc: 0.9105\n",
      "Epoch 12/12\n",
      "60000/60000 [==============================] - 16s - loss: 0.7216 - acc: 0.9058 - val_loss: 0.4269 - val_acc: 0.9095\n"
     ]
    },
    {
     "data": {
      "text/plain": [
       "<keras.callbacks.History at 0x1239ceb10>"
      ]
     },
     "execution_count": 8,
     "metadata": {},
     "output_type": "execute_result"
    }
   ],
   "source": [
    "BATCH_SIZE = 10\n",
    "NUM_EPOCHS = 12\n",
    "\n",
    "# Build the model (ie the architecture)\n",
    "model = build_model(num_hidden=32)\n",
    "\n",
    "# Pick cost function, optimizer, metric\n",
    "model.compile(loss='categorical_crossentropy',\n",
    "              optimizer='adadelta',\n",
    "              metrics=['accuracy'])\n",
    "\n",
    "# Train\n",
    "model.fit(X_train, y_train, batch_size=BATCH_SIZE, nb_epoch=NUM_EPOCHS,\n",
    "          verbose=1, validation_data=(X_val, y_val))"
   ]
  },
  {
   "cell_type": "code",
   "execution_count": 9,
   "metadata": {
    "collapsed": false
   },
   "outputs": [
    {
     "name": "stdout",
     "output_type": "stream",
     "text": [
      "Train Score: 0.432463565461 Accuracy: 0.909766666667\n",
      "Validation Score: 0.426930578232 Accuracy: 0.9095\n",
      "Test Score: 0.431588355899 Accuracy: 0.910375\n"
     ]
    }
   ],
   "source": [
    "def score(model, X, y):\n",
    "    s = model.evaluate(X, y, verbose=0)\n",
    "    print 'Score:', s[0], 'Accuracy:', s[1]\n",
    "    \n",
    "print 'Train',\n",
    "score(model, X_train, y_train)\n",
    "print 'Validation',\n",
    "score(model, X_val, y_val)\n",
    "print 'Test',\n",
    "score(model, X_test, y_test)"
   ]
  },
  {
   "cell_type": "markdown",
   "metadata": {},
   "source": [
    "### The Bayesian Optimization Problem\n",
    "Following the example in [Snoek, Larochelle and Adams (2012)](https://papers.nips.cc/paper/4522-practical-bayesian-optimization-of-machine-learning-algorithms) for the Logistic Regression model, we want to optimize the following parameters:\n",
    "\n",
    "* batch size (integer between 20 and 2000)\n",
    "* L2 regularization parameter (between 0 and 1)\n",
    "* learning rate (between 0 and 1)\n",
    "* number of learning epochs (between 5 and 200)\n",
    "* number of hidden layers (between 16 and 1024)\n",
    "\n",
    "It is clear some of these parameters affect the time it takes to train the model. With this in mind, we chose to run the Bayesian Optimization taking into consideration the Improvement per Second."
   ]
  },
  {
   "cell_type": "code",
   "execution_count": 10,
   "metadata": {
    "collapsed": true
   },
   "outputs": [],
   "source": [
    "from keras.optimizers import SGD\n",
    "\n",
    "import GPyOpt"
   ]
  },
  {
   "cell_type": "code",
   "execution_count": 11,
   "metadata": {
    "collapsed": false
   },
   "outputs": [],
   "source": [
    "def f(p):\n",
    "    # p = (l2_coef, learning_rate, num_epochs, batch_size)\n",
    "    l2_coef = p[0, 0]\n",
    "    learning_rate = p[0, 1]\n",
    "    num_epochs = int(p[0, 2])\n",
    "    batch_size = int(p[0, 3])\n",
    "\n",
    "    # Build Model\n",
    "    m = build_model(num_hidden=32, l2_coef=l2_coef)\n",
    "    \n",
    "    # Build custom Optimizer\n",
    "    sgd = SGD(lr=learning_rate, decay=1e-6, momentum=0.9, nesterov=True)\n",
    "    \n",
    "    # Pick cost function, optimizer, metric\n",
    "    m.compile(loss='categorical_crossentropy',\n",
    "              optimizer=sgd,\n",
    "              metrics=['accuracy'])\n",
    "    # Train\n",
    "    m.fit(X_train, y_train, batch_size=batch_size, nb_epoch=num_epochs,\n",
    "          verbose=0, validation_data=(X_val, y_val))\n",
    "\n",
    "    score = m.evaluate(X_test, y_test, verbose=0)\n",
    "    \n",
    "    # For progress tracking\n",
    "    print \"l2: {0:.3f},\\tlrate: {1:.3f},\\tnepoch: {2:d},\\tbatch: {3:d}\".format(\n",
    "        l2_coef, learning_rate, num_epochs, batch_size),\n",
    "    print 'score:', score[0], 'test acc:', score[1]\n",
    "    \n",
    "    # Return the score on the test set\n",
    "    return score[0]"
   ]
  },
  {
   "cell_type": "code",
   "execution_count": 12,
   "metadata": {
    "collapsed": false
   },
   "outputs": [],
   "source": [
    "# Define the problem bounds and budget\n",
    "# Domains:\n",
    "# l2_coef in [0., 1.]\n",
    "# learning_rate in { 1e-6, 1e-5, 1e-4, 0.001, 0.01, 0.1, 1. }\n",
    "# num_epochs approximately between 5 and 2000\n",
    "# batch_size approximately between 20 and 2000\n",
    "\n",
    "bounds = [{ 'name': 'l2_coef',       'type': 'continuous', 'domain': (0., 1.) },\n",
    "          { 'name': 'learning_rate', 'type': 'discrete',   'domain': tuple(np.logspace( -6,   0, 7)) },\n",
    "          { 'name': 'num_epochs',    'type': 'discrete',   'domain': tuple(np.logspace(0.7, 3.3, 5)) },\n",
    "          { 'name': 'batch_size',    'type': 'discrete',   'domain': tuple(np.logspace(1.3, 3.3, 5)) }]"
   ]
  },
  {
   "cell_type": "code",
   "execution_count": 13,
   "metadata": {
    "collapsed": false
   },
   "outputs": [
    {
     "name": "stdout",
     "output_type": "stream",
     "text": [
      "l2: 0.696,\tlrate: 0.000,\tnepoch: 1995,\tbatch: 199 score: 1.98403008795 test acc: 0.82075\n",
      "l2: 0.286,\tlrate: 0.100,\tnepoch: 1995,\tbatch: 63 score: 2.05939034414 test acc: 0.444125\n",
      "l2: 0.227,\tlrate: 0.000,\tnepoch: 1995,\tbatch: 1995 score: 1.71773272991 test acc: 0.566625\n",
      "l2: 0.551,\tlrate: 0.000,\tnepoch: 22,\tbatch: 19 score: 1.90566467381 test acc: 0.792125\n",
      "l2: 0.719,\tlrate: 0.001,\tnepoch: 446,\tbatch: 630 score: 1.98853467178 test acc: 0.760375\n"
     ]
    }
   ],
   "source": [
    "# Initialize the problem\n",
    "np.random.seed(123)\n",
    "myBopt = GPyOpt.methods.BayesianOptimization(f=f, domain=bounds,\n",
    "                                             #cost_withGradients='evaluation_time',\n",
    "                                             initial_design_numdata=5,\n",
    "                                             acquisition_type='EI',\n",
    "                                             exact_feval = True)"
   ]
  },
  {
   "cell_type": "code",
   "execution_count": 14,
   "metadata": {
    "collapsed": false
   },
   "outputs": [
    {
     "name": "stdout",
     "output_type": "stream",
     "text": [
      "l2: 0.522,\tlrate: 0.010,\tnepoch: 1995,\tbatch: 1995 score: 1.9729374361 test acc: 0.64675\n",
      "l2: 0.000,\tlrate: 0.000,\tnepoch: 1995,\tbatch: 1995 score: 1.88994348145 test acc: 0.42825\n",
      "l2: 0.228,\tlrate: 0.100,\tnepoch: 1995,\tbatch: 1995 score: 2.26908592987 test acc: 0.1515\n",
      "l2: 0.000,\tlrate: 1.000,\tnepoch: 22,\tbatch: 19 score: 14.2866769295 test acc: 0.113625\n",
      "l2: 0.697,\tlrate: 1.000,\tnepoch: 1995,\tbatch: 199 score: nan test acc: 0.097875\n",
      "l2: 0.466,\tlrate: 0.000,\tnepoch: 5,\tbatch: 19 score: 2.10761088943 test acc: 0.207375\n",
      "l2: 0.466,\tlrate: 0.000,\tnepoch: 5,\tbatch: 19 score: 2.17407557535 test acc: 0.2065\n"
     ]
    }
   ],
   "source": [
    "# Run the optimization\n",
    "max_iter = 15       # evaluation budget\n",
    "max_time = 14400    # time budget (4hours)\n",
    "eps      = 10e-6    # Minimum allows distance between the las two observations\n",
    "\n",
    "myBopt.run_optimization(max_iter, max_time, eps)  "
   ]
  },
  {
   "cell_type": "code",
   "execution_count": 15,
   "metadata": {
    "collapsed": false
   },
   "outputs": [
    {
     "name": "stdout",
     "output_type": "stream",
     "text": [
      "x_opt: [  6.96534388e-01   1.00000000e+00   1.99526231e+03   1.99526231e+02]\n",
      "f(x_opt): [ 1.71773273]\n"
     ]
    }
   ],
   "source": [
    "# Print the Optimum\n",
    "print 'x_opt:', myBopt.x_opt\n",
    "print 'f(x_opt):', myBopt.fx_opt"
   ]
  },
  {
   "cell_type": "code",
   "execution_count": 16,
   "metadata": {
    "collapsed": false
   },
   "outputs": [],
   "source": [
    "# Plot Expected Improvement\n",
    "myBopt.plot_acquisition()"
   ]
  },
  {
   "cell_type": "code",
   "execution_count": 17,
   "metadata": {
    "collapsed": false
   },
   "outputs": [
    {
     "data": {
      "image/png": "[encoded data removed]",
      "text/plain": [
       "<matplotlib.figure.Figure at 0x11691bdd0>"
      ]
     },
     "metadata": {},
     "output_type": "display_data"
    }
   ],
   "source": [
    "# Convergence\n",
    "myBopt.plot_convergence()"
   ]
  },
  {
   "cell_type": "code",
   "execution_count": null,
   "metadata": {
    "collapsed": true
   },
   "outputs": [],
   "source": []
  }
 ],
 "metadata": {
  "kernelspec": {
   "display_name": "Python 2",
   "language": "python",
   "name": "python2"
  },
  "language_info": {
   "codemirror_mode": {
    "name": "ipython",
    "version": 2
   },
   "file_extension": ".py",
   "mimetype": "text/x-python",
   "name": "python",
   "nbconvert_exporter": "python",
   "pygments_lexer": "ipython2",
   "version": "2.7.6"
  }
 },
 "nbformat": 4,
 "nbformat_minor": 1
}
