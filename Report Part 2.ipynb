{
 "cells": [
  {
   "cell_type": "code",
   "execution_count": 1,
   "metadata": {
    "collapsed": false
   },
   "outputs": [
    {
     "name": "stderr",
     "output_type": "stream",
     "text": [
      "Using Theano backend.\n",
      "/Users/inesalmeida/work/02901_DTU/venv/lib/python2.7/site-packages/matplotlib/font_manager.py:273: UserWarning: Matplotlib is building the font cache using fc-list. This may take a moment.\n",
      "  warnings.warn('Matplotlib is building the font cache using fc-list. This may take a moment.')\n"
     ]
    }
   ],
   "source": [
    "import numpy as np\n",
    "\n",
    "from keras.optimizers import SGD\n",
    "from keras.utils import np_utils\n",
    "import GPyOpt\n",
    "\n",
    "import load_mnist\n",
    "import plot_utils\n",
    "\n",
    "np.random.seed(1)"
   ]
  },
  {
   "cell_type": "markdown",
   "metadata": {},
   "source": [
    "## Load Data"
   ]
  },
  {
   "cell_type": "code",
   "execution_count": 2,
   "metadata": {
    "collapsed": false
   },
   "outputs": [
    {
     "name": "stdout",
     "output_type": "stream",
     "text": [
      "Loaded 60000 patterns with 784 features.\n",
      "Loaded 10000 patterns with 784 features.\n"
     ]
    }
   ],
   "source": [
    "X_train, y_train = load_mnist.load_train()\n",
    "X_val, y_val, X_test, y_test = load_mnist.split_val_test(load_mnist.load_test())"
   ]
  },
  {
   "cell_type": "markdown",
   "metadata": {},
   "source": [
    "### Visualize some examples"
   ]
  },
  {
   "cell_type": "code",
   "execution_count": 3,
   "metadata": {
    "collapsed": true
   },
   "outputs": [],
   "source": [
    "%matplotlib inline"
   ]
  },
  {
   "cell_type": "code",
   "execution_count": 4,
   "metadata": {
    "collapsed": false
   },
   "outputs": [
    {
     "data": {
      "image/png": "[encoded data removed]",
      "text/plain": [
       "<matplotlib.figure.Figure at 0x11233d710>"
      ]
     },
     "metadata": {},
     "output_type": "display_data"
    }
   ],
   "source": [
    "plot_utils.plot_a_few(X_train, y_train)"
   ]
  },
  {
   "cell_type": "markdown",
   "metadata": {},
   "source": [
    "### Transform Output"
   ]
  },
  {
   "cell_type": "code",
   "execution_count": 5,
   "metadata": {
    "collapsed": false
   },
   "outputs": [
    {
     "name": "stdout",
     "output_type": "stream",
     "text": [
      "(60000, 784) (60000, 10)\n"
     ]
    }
   ],
   "source": [
    "NUM_CLASSES = 10\n",
    "\n",
    "y_train = np_utils.to_categorical(y_train, NUM_CLASSES)\n",
    "print X_train.shape, y_train.shape\n",
    "y_val = np_utils.to_categorical(y_val, NUM_CLASSES)\n",
    "y_test = np_utils.to_categorical(y_test, NUM_CLASSES)"
   ]
  },
  {
   "cell_type": "markdown",
   "metadata": {},
   "source": [
    "## Part 2: Time Sensitive Optimization\n",
    "We use a Multilayer Perceptron. We want to estimate the most adequate training hyperparameters in the shortest amount of time."
   ]
  },
  {
   "cell_type": "markdown",
   "metadata": {},
   "source": [
    "### Train a Basic Multilayer Perceptron for Illustration"
   ]
  },
  {
   "cell_type": "code",
   "execution_count": 6,
   "metadata": {
    "collapsed": false
   },
   "outputs": [],
   "source": [
    "from multilayer_perceptron import build_model"
   ]
  },
  {
   "cell_type": "code",
   "execution_count": 7,
   "metadata": {
    "collapsed": false
   },
   "outputs": [
    {
     "name": "stdout",
     "output_type": "stream",
     "text": [
      "Train on 60000 samples, validate on 2000 samples\n",
      "Epoch 1/12\n",
      "60000/60000 [==============================] - 16s - loss: 1.4663 - acc: 0.7250 - val_loss: 0.6553 - val_acc: 0.8460\n",
      "Epoch 2/12\n",
      "60000/60000 [==============================] - 35s - loss: 0.9720 - acc: 0.8611 - val_loss: 0.5329 - val_acc: 0.8830\n",
      "Epoch 3/12\n",
      "60000/60000 [==============================] - 24s - loss: 0.8724 - acc: 0.8772 - val_loss: 0.4891 - val_acc: 0.8945\n",
      "Epoch 4/12\n",
      "60000/60000 [==============================] - 27s - loss: 0.8192 - acc: 0.8868 - val_loss: 0.4759 - val_acc: 0.8960\n",
      "Epoch 5/12\n",
      "60000/60000 [==============================] - 22s - loss: 0.7896 - acc: 0.8919 - val_loss: 0.4613 - val_acc: 0.8990\n",
      "Epoch 6/12\n",
      "60000/60000 [==============================] - 21s - loss: 0.7672 - acc: 0.8953 - val_loss: 0.4513 - val_acc: 0.9055\n",
      "Epoch 7/12\n",
      "60000/60000 [==============================] - 24s - loss: 0.7514 - acc: 0.8995 - val_loss: 0.4455 - val_acc: 0.9065\n",
      "Epoch 8/12\n",
      "60000/60000 [==============================] - 36s - loss: 0.7421 - acc: 0.9015 - val_loss: 0.4473 - val_acc: 0.9080\n",
      "Epoch 9/12\n",
      "60000/60000 [==============================] - 34s - loss: 0.7339 - acc: 0.9026 - val_loss: 0.4391 - val_acc: 0.9075\n",
      "Epoch 10/12\n",
      "60000/60000 [==============================] - 32s - loss: 0.7297 - acc: 0.9038 - val_loss: 0.4351 - val_acc: 0.9075\n",
      "Epoch 11/12\n",
      "60000/60000 [==============================] - 32s - loss: 0.7247 - acc: 0.9056 - val_loss: 0.4326 - val_acc: 0.9105\n",
      "Epoch 12/12\n",
      "60000/60000 [==============================] - 34s - loss: 0.7216 - acc: 0.9058 - val_loss: 0.4269 - val_acc: 0.9095\n"
     ]
    },
    {
     "data": {
      "text/plain": [
       "<keras.callbacks.History at 0x12fbd7b90>"
      ]
     },
     "execution_count": 7,
     "metadata": {},
     "output_type": "execute_result"
    }
   ],
   "source": [
    "BATCH_SIZE = 10\n",
    "NUM_EPOCHS = 12\n",
    "\n",
    "# Build the model (ie the architecture)\n",
    "model = build_model(num_hidden=32)\n",
    "\n",
    "# Pick cost function, optimizer, metric\n",
    "model.compile(loss='categorical_crossentropy',\n",
    "              optimizer='adadelta',\n",
    "              metrics=['accuracy'])\n",
    "\n",
    "# Train\n",
    "model.fit(X_train, y_train, batch_size=BATCH_SIZE, nb_epoch=NUM_EPOCHS,\n",
    "          verbose=1, validation_data=(X_val, y_val))"
   ]
  },
  {
   "cell_type": "code",
   "execution_count": 8,
   "metadata": {
    "collapsed": false
   },
   "outputs": [
    {
     "name": "stdout",
     "output_type": "stream",
     "text": [
      "Train Score: 0.432463565461 Accuracy: 0.909766666667\n",
      "Validation Score: 0.426930578232 Accuracy: 0.9095\n",
      "Test Score: 0.431588355899 Accuracy: 0.910375\n"
     ]
    }
   ],
   "source": [
    "def score(model, X, y):\n",
    "    s = model.evaluate(X, y, verbose=0)\n",
    "    print 'Score:', s[0], 'Accuracy:', s[1]\n",
    "    \n",
    "print 'Train',\n",
    "score(model, X_train, y_train)\n",
    "print 'Validation',\n",
    "score(model, X_val, y_val)\n",
    "print 'Test',\n",
    "score(model, X_test, y_test)"
   ]
  },
  {
   "cell_type": "markdown",
   "metadata": {},
   "source": [
    "### The Bayesian Optimization Problem\n",
    "Following the example in [Snoek, Larochelle and Adams (2012)](https://papers.nips.cc/paper/4522-practical-bayesian-optimization-of-machine-learning-algorithms) for the Logistic Regression model, we want to optimize the following parameters:\n",
    "\n",
    "* batch size (integer between 20 and 2000)\n",
    "* L2 regularization parameter (between 0 and 1)\n",
    "* learning rate (between 0 and 1)\n",
    "* number of learning epochs (between 5 and 200)\n",
    "* number of hidden layers (between 16 and 1024)\n",
    "\n",
    "It is clear some of these parameters affect the time it takes to train the model. With this in mind, we chose to run the Bayesian Optimization taking into consideration the Improvement per Second."
   ]
  },
  {
   "cell_type": "code",
   "execution_count": 13,
   "metadata": {
    "collapsed": false
   },
   "outputs": [],
   "source": [
    "def f(p):\n",
    "    # p = (l2_coef, learning_rate, num_epochs, batch_size)\n",
    "    l2_coef = p[0, 0]\n",
    "    # learning rate does not strongly influence adadelta\n",
    "    # learning_rate = p[0, 1]\n",
    "    num_epochs = int(p[0, 1])\n",
    "    batch_size = int(p[0, 2])\n",
    "\n",
    "    # Build Model\n",
    "    m = build_model(num_hidden=32, l2_coef=l2_coef)\n",
    "    \n",
    "    # Build custom Optimizer\n",
    "    # Use this instead of 'adadelta' to optimize on learning rate\n",
    "    # be warned, however, that convergence is much slower.\n",
    "    # sgd = SGD(lr=learning_rate, decay=1e-6, momentum=0.9, nesterov=True)\n",
    "    \n",
    "    # Pick cost function, optimizer, metric\n",
    "    m.compile(loss='categorical_crossentropy',\n",
    "              optimizer='adadelta',\n",
    "              metrics=['accuracy'])\n",
    "    # Train\n",
    "    m.fit(X_train, y_train, batch_size=batch_size, nb_epoch=num_epochs,\n",
    "          verbose=0, validation_data=(X_val, y_val))\n",
    "\n",
    "    score = m.evaluate(X_test, y_test, verbose=0)\n",
    "    \n",
    "    # For progress tracking\n",
    "    print \"l2: {0:.3f}, \\tnepoch: {1:d},\\tbatch: {2:d}\\t\".format(\n",
    "        l2_coef, num_epochs, batch_size),\n",
    "    print 'score:', score[0], 'test acc:', score[1]\n",
    "    \n",
    "    # Return the score on the test set\n",
    "    return score[0]"
   ]
  },
  {
   "cell_type": "code",
   "execution_count": 14,
   "metadata": {
    "collapsed": false
   },
   "outputs": [],
   "source": [
    "# Define the problem bounds and budget\n",
    "# Domains:\n",
    "# l2_coef in [0., 1.]\n",
    "# learning_rate in { 1e-6, 1e-5, 1e-4, 0.001, 0.01, 0.1, 1. }\n",
    "# num_epochs between 5 and 50\n",
    "# batch_size approximately between 20 and 2000\n",
    "\n",
    "bounds = [{ 'name': 'l2_coef',       'type': 'continuous', 'domain': (0., 1.) },\n",
    "          #{ 'name': 'learning_rate', 'type': 'discrete',   'domain': tuple(np.logspace( -6,   0, 7)) },\n",
    "          { 'name': 'num_epochs',    'type': 'discrete',   'domain': tuple(np.linspace(5, 50, 6, dtype=int)) },\n",
    "          { 'name': 'batch_size',    'type': 'discrete',   'domain': tuple(np.logspace(1.30, 3.3, 5, dtype=int)) }]"
   ]
  },
  {
   "cell_type": "code",
   "execution_count": 15,
   "metadata": {
    "collapsed": false
   },
   "outputs": [],
   "source": [
    "# Notes:\n",
    "# log10(5) ~= 0.699\n",
    "# log10(12) ~= 1.08\n",
    "# log10(20) ~= 1.30\n",
    "# log10(50) ~= 1.69\n",
    "# log10(200) ~= 2.30\n",
    "# log10(2000) ~= 3.30"
   ]
  },
  {
   "cell_type": "code",
   "execution_count": 16,
   "metadata": {
    "collapsed": false
   },
   "outputs": [
    {
     "name": "stdout",
     "output_type": "stream",
     "text": [
      "l2: 0.696, \tnepoch: 41,\tbatch: 199\tscore: 2.01743796301 test acc: 0.623625\n",
      "l2: 0.286, \tnepoch: 14,\tbatch: 1995\tscore: 1.46769842958 test acc: 0.841375\n",
      "l2: 0.227, \tnepoch: 32,\tbatch: 19\tscore: 1.57774285746 test acc: 0.845\n",
      "l2: 0.551, \tnepoch: 23,\tbatch: 19\tscore: 1.94718215895 test acc: 0.723125\n",
      "l2: 0.719, \tnepoch: 41,\tbatch: 63\tscore: 2.04563989496 test acc: 0.620875\n"
     ]
    }
   ],
   "source": [
    "# Initialize the problem\n",
    "np.random.seed(123)\n",
    "myBopt = GPyOpt.methods.BayesianOptimization(f=f, domain=bounds,\n",
    "                                             #cost_withGradients='evaluation_time',\n",
    "                                             initial_design_numdata=5,\n",
    "                                             acquisition_type='EI',\n",
    "                                             exact_feval = True)"
   ]
  },
  {
   "cell_type": "code",
   "execution_count": 17,
   "metadata": {
    "collapsed": false
   },
   "outputs": [
    {
     "name": "stdout",
     "output_type": "stream",
     "text": [
      "l2: 0.485, \tnepoch: 14,\tbatch: 1995\tscore: 1.64798174429 test acc: 0.793875\n",
      "l2: 0.101, \tnepoch: 14,\tbatch: 1995\tscore: 1.13282688093 test acc: 0.88025\n",
      "l2: 0.000, \tnepoch: 14,\tbatch: 1995\tscore: 0.560397187233 test acc: 0.875125\n",
      "l2: 0.800, \tnepoch: 5,\tbatch: 1995\tscore: 1.52032503128 test acc: 0.73225\n",
      "l2: 0.800, \tnepoch: 23,\tbatch: 1995\tscore: 1.92927456522 test acc: 0.802\n",
      "l2: 0.192, \tnepoch: 5,\tbatch: 19\tscore: 1.51168654251 test acc: 0.85075\n",
      "l2: 0.192, \tnepoch: 14,\tbatch: 19\tscore: 1.4785912447 test acc: 0.84475\n",
      "l2: 1.000, \tnepoch: 14,\tbatch: 19\tscore: 2.10282680511 test acc: 0.511625\n",
      "l2: 1.000, \tnepoch: 5,\tbatch: 19\tscore: 2.10246311951 test acc: 0.49125\n",
      "l2: 0.000, \tnepoch: 5,\tbatch: 1995\tscore: 0.900760876179 test acc: 0.815125\n",
      "l2: 0.265, \tnepoch: 5,\tbatch: 1995\tscore: 1.31638146114 test acc: 0.770375\n",
      "l2: 0.192, \tnepoch: 5,\tbatch: 63\tscore: 1.49245299864 test acc: 0.8455\n",
      "l2: 1.000, \tnepoch: 5,\tbatch: 63\tscore: 2.12266847229 test acc: 0.61025\n",
      "l2: 0.192, \tnepoch: 5,\tbatch: 199\tscore: 1.47343674278 test acc: 0.867125\n",
      "l2: 1.000, \tnepoch: 5,\tbatch: 199\tscore: 2.1006901989 test acc: 0.545375\n"
     ]
    }
   ],
   "source": [
    "# Run the optimization\n",
    "max_iter = 15    # evaluation budget\n",
    "max_time = 7200  # time budget (2hours)\n",
    "eps      = 10e-6 # Minimum allows distance between the last two observations\n",
    "\n",
    "myBopt.run_optimization(max_iter, max_time, eps)  "
   ]
  },
  {
   "cell_type": "code",
   "execution_count": 18,
   "metadata": {
    "collapsed": false
   },
   "outputs": [
    {
     "name": "stdout",
     "output_type": "stream",
     "text": [
      "x_opt: [    0.    14.  1995.]\n",
      "f(x_opt): [ 0.56039719]\n"
     ]
    }
   ],
   "source": [
    "# Print the Optimum\n",
    "print 'x_opt:', myBopt.x_opt\n",
    "print 'f(x_opt):', myBopt.fx_opt"
   ]
  },
  {
   "cell_type": "code",
   "execution_count": 19,
   "metadata": {
    "collapsed": false
   },
   "outputs": [],
   "source": [
    "# Plot Expected Improvement\n",
    "myBopt.plot_acquisition()"
   ]
  },
  {
   "cell_type": "code",
   "execution_count": 20,
   "metadata": {
    "collapsed": false
   },
   "outputs": [
    {
     "data": {
      "image/png": "[encoded data removed]",
      "text/plain": [
       "<matplotlib.figure.Figure at 0x116d15310>"
      ]
     },
     "metadata": {},
     "output_type": "display_data"
    }
   ],
   "source": [
    "# Convergence\n",
    "myBopt.plot_convergence()"
   ]
  },
  {
   "cell_type": "code",
   "execution_count": 21,
   "metadata": {
    "collapsed": false
   },
   "outputs": [
    {
     "name": "stdout",
     "output_type": "stream",
     "text": [
      "l2: 0.696, \tnepoch: 41,\tbatch: 199\tscore: 2.01743796301 test acc: 0.623625\n",
      "l2: 0.286, \tnepoch: 14,\tbatch: 1995\tscore: 1.46769842958 test acc: 0.841375\n",
      "l2: 0.227, \tnepoch: 32,\tbatch: 19\tscore: 1.57774285746 test acc: 0.845\n",
      "l2: 0.551, \tnepoch: 23,\tbatch: 19\tscore: 1.94718215895 test acc: 0.723125\n",
      "l2: 0.719, \tnepoch: 41,\tbatch: 63\tscore: 2.04563989496 test acc: 0.620875\n",
      "l2: 0.485, \tnepoch: 14,\tbatch: 1995\tscore: 1.64798174429 test acc: 0.793875\n",
      "l2: 0.101, \tnepoch: 14,\tbatch: 1995\tscore: 1.13282688093 test acc: 0.88025\n",
      "l2: 0.000, \tnepoch: 14,\tbatch: 1995\tscore: 0.560397187233 test acc: 0.875125\n",
      "l2: 0.800, \tnepoch: 5,\tbatch: 1995\tscore: 1.52032503128 test acc: 0.73225\n",
      "l2: 0.800, \tnepoch: 23,\tbatch: 1995\tscore: 1.92927456522 test acc: 0.802\n",
      "l2: 0.192, \tnepoch: 5,\tbatch: 19\tscore: 1.51168654251 test acc: 0.85075\n",
      "l2: 0.192, \tnepoch: 14,\tbatch: 19\tscore: 1.4785912447 test acc: 0.84475\n",
      "l2: 1.000, \tnepoch: 14,\tbatch: 19\tscore: 2.10282680511 test acc: 0.511625\n",
      "l2: 1.000, \tnepoch: 5,\tbatch: 19\tscore: 2.10246311951 test acc: 0.49125\n",
      "l2: 0.000, \tnepoch: 5,\tbatch: 1995\tscore: 0.900760876179 test acc: 0.815125\n",
      "l2: 0.265, \tnepoch: 5,\tbatch: 1995\tscore: 1.31638146114 test acc: 0.770375\n",
      "l2: 0.192, \tnepoch: 5,\tbatch: 63\tscore: 1.49245299864 test acc: 0.8455\n",
      "l2: 1.000, \tnepoch: 5,\tbatch: 63\tscore: 2.12266847229 test acc: 0.61025\n",
      "l2: 0.192, \tnepoch: 5,\tbatch: 199\tscore: 1.47343674278 test acc: 0.867125\n",
      "l2: 1.000, \tnepoch: 5,\tbatch: 199\tscore: 2.1006901989 test acc: 0.545375\n",
      "l2: 0.192, \tnepoch: 14,\tbatch: 63\tscore: 1.46794589329 test acc: 0.86375\n",
      "l2: 1.000, \tnepoch: 14,\tbatch: 63\tscore: 2.12940646648 test acc: 0.531625\n",
      "l2: 0.192, \tnepoch: 5,\tbatch: 630\tscore: 1.42045436907 test acc: 0.836125\n",
      "l2: 0.923, \tnepoch: 5,\tbatch: 630\tscore: 1.66931148338 test acc: 0.836625\n",
      "l2: 0.800, \tnepoch: 14,\tbatch: 199\tscore: 2.05831617308 test acc: 0.612\n",
      "l2: 0.192, \tnepoch: 14,\tbatch: 630\tscore: 1.47224169016 test acc: 0.86125\n",
      "l2: 0.987, \tnepoch: 14,\tbatch: 630\tscore: 2.11882895184 test acc: 0.52925\n",
      "l2: 0.800, \tnepoch: 23,\tbatch: 63\tscore: 2.06095520878 test acc: 0.623625\n",
      "l2: 1.000, \tnepoch: 32,\tbatch: 19\tscore: 2.10438946152 test acc: 0.57525\n",
      "l2: 0.192, \tnepoch: 23,\tbatch: 199\tscore: 1.46281930685 test acc: 0.856125\n",
      "l2: 0.919, \tnepoch: 23,\tbatch: 199\tscore: 2.09182862091 test acc: 0.481\n",
      "l2: 0.916, \tnepoch: 23,\tbatch: 630\tscore: 2.08994495583 test acc: 0.60925\n",
      "l2: 0.015, \tnepoch: 32,\tbatch: 63\tscore: 0.450679161429 test acc: 0.919625\n",
      "l2: 0.122, \tnepoch: 32,\tbatch: 63\tscore: 1.2450280242 test acc: 0.881875\n",
      "l2: 0.000, \tnepoch: 32,\tbatch: 63\tscore: 0.237713208131 test acc: 0.931875\n",
      "l2: 0.192, \tnepoch: 32,\tbatch: 199\tscore: 1.4595472784 test acc: 0.860625\n",
      "l2: 1.000, \tnepoch: 32,\tbatch: 199\tscore: 2.10003222942 test acc: 0.471\n",
      "l2: 0.192, \tnepoch: 41,\tbatch: 630\tscore: 1.49488676548 test acc: 0.829375\n",
      "l2: 1.000, \tnepoch: 41,\tbatch: 630\tscore: 2.11351989937 test acc: 0.542375\n",
      "l2: 0.192, \tnepoch: 32,\tbatch: 630\tscore: 1.47250531816 test acc: 0.861875\n",
      "l2: 1.000, \tnepoch: 32,\tbatch: 630\tscore: 2.11565299225 test acc: 0.531625\n",
      "l2: 0.192, \tnepoch: 32,\tbatch: 1995\tscore: 1.50133590651 test acc: 0.8565\n",
      "l2: 1.000, \tnepoch: 32,\tbatch: 1995\tscore: 2.11315339756 test acc: 0.574\n",
      "l2: 0.192, \tnepoch: 41,\tbatch: 19\tscore: 1.49637831497 test acc: 0.832125\n",
      "l2: 1.000, \tnepoch: 41,\tbatch: 19\tscore: 2.09632141685 test acc: 0.498375\n",
      "l2: 0.192, \tnepoch: 41,\tbatch: 1995\tscore: 1.49088234949 test acc: 0.862375\n",
      "l2: 1.000, \tnepoch: 41,\tbatch: 1995\tscore: 2.1058026638 test acc: 0.524\n",
      "l2: 0.800, \tnepoch: 50,\tbatch: 19\tscore: 2.05606068516 test acc: 0.523\n",
      "l2: 0.192, \tnepoch: 50,\tbatch: 630\tscore: 1.47206268978 test acc: 0.85675\n",
      "l2: 0.999, \tnepoch: 50,\tbatch: 630\tscore: 2.10920237732 test acc: 0.482125\n"
     ]
    }
   ],
   "source": [
    "# Initialize the problem\n",
    "np.random.seed(123)\n",
    "myBopt2 = GPyOpt.methods.BayesianOptimization(f=f, domain=bounds,\n",
    "                                             #cost_withGradients='evaluation_time',\n",
    "                                             initial_design_numdata=5,\n",
    "                                             acquisition_type='EI',\n",
    "                                             exact_feval = True)\n",
    "\n",
    "# Run the optimization\n",
    "max_iter = 45    # evaluation budget\n",
    "max_time = 7200  # time budget (2hours)\n",
    "eps      = 10e-6 # Minimum allows distance between the last two observations\n",
    "\n",
    "myBopt2.run_optimization(max_iter, max_time, eps)  "
   ]
  },
  {
   "cell_type": "code",
   "execution_count": 23,
   "metadata": {
    "collapsed": false
   },
   "outputs": [
    {
     "data": {
      "image/png": "[encoded data removed]",
      "text/plain": [
       "<matplotlib.figure.Figure at 0x1343ac810>"
      ]
     },
     "metadata": {},
     "output_type": "display_data"
    }
   ],
   "source": [
    "myBopt2.plot_convergence()"
   ]
  },
  {
   "cell_type": "code",
   "execution_count": null,
   "metadata": {
    "collapsed": true
   },
   "outputs": [],
   "source": []
  }
 ],
 "metadata": {
  "kernelspec": {
   "display_name": "Python 2",
   "language": "python",
   "name": "python2"
  },
  "language_info": {
   "codemirror_mode": {
    "name": "ipython",
    "version": 2
   },
   "file_extension": ".py",
   "mimetype": "text/x-python",
   "name": "python",
   "nbconvert_exporter": "python",
   "pygments_lexer": "ipython2",
   "version": "2.7.6"
  }
 },
 "nbformat": 4,
 "nbformat_minor": 1
}
